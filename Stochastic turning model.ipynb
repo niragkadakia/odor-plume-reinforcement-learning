{
 "cells": [
  {
   "cell_type": "code",
   "execution_count": null,
   "metadata": {},
   "outputs": [],
   "source": [
    "a = upwind_downwind_turns()\n",
    "a.x0_min = 1000\n",
    "a.num_walkers = 1000\n",
    "a.def_actions()\n",
    "a.num_steps = 5000\n",
    "#a.def_states(freq_bins=[-1, 0.01, 1, 2, 100])\n",
    "#a.def_states(freq_bins=[-1, 0.01, 1, 5, 100])\n",
    "a.def_states(freq_bins=[-1, 0.01, 0.5, 1, 2, 3, 100])\n",
    "xs, ys, Q, Q_terminal, path_lengths = a.run()"
   ]
  },
  {
   "cell_type": "code",
   "execution_count": null,
   "metadata": {},
   "outputs": [],
   "source": [
    "fig = plt.figure(figsize=(2, 3))\n",
    "colors = plt.cm.Reds(np.linspace(0.2, 1.0, a._num_states))\n",
    "for i in range(a._num_states):\n",
    "    plt.plot(Q_terminal[i], color=colors[i])\n",
    "plt.show()\n",
    "temp = 100\n",
    "fig = plt.figure(figsize=(2, 3))\n",
    "Q_norm = (np.exp(Q_terminal.T/temp)/np.sum(np.exp(Q_terminal/temp), axis=-1)).T\n",
    "plt.imshow(Q_norm, cmap=plt.cm.seismic)\n",
    "plt.colorbar()\n",
    "plt.show()"
   ]
  },
  {
   "cell_type": "code",
   "execution_count": null,
   "metadata": {},
   "outputs": [],
   "source": [
    "nums = 500\n",
    "Q_reduce = np.zeros((nums, a._num_states, a._num_actions, a.num_walkers))\n",
    "for iW in range(a.num_walkers):\n",
    "    if path_lengths[iW] < nums:\n",
    "        Q_reduce[:, :, :, iW] = np.nan\n",
    "    else:\n",
    "        Q_reduce[:, :, :, iW] = Q[path_lengths[iW] - nums:path_lengths[iW], :, :, iW]\n",
    "Q_avg = np.nanmean(Q_reduce, axis=-1)"
   ]
  },
  {
   "cell_type": "code",
   "execution_count": null,
   "metadata": {},
   "outputs": [],
   "source": [
    "temp = .2\n",
    "for idx in range(a._num_states):\n",
    "    Q1 = np.exp(Q_avg[:, idx, 0]/temp)\n",
    "    Q2 = np.exp(Q_avg[:, idx, 1]/temp)\n",
    "    val_normed = Q1/(Q1 + Q2)\n",
    "    plt.plot(val_normed, color=plt.cm.seismic(idx/(a._num_states + 1) + 0.2))\n",
    "plt.axhline(0.5, color='r')\n",
    "plt.show()"
   ]
  },
  {
   "cell_type": "code",
   "execution_count": null,
   "metadata": {},
   "outputs": [],
   "source": [
    "a.epsilon=0\n",
    "a.num_walkers = 100\n",
    "a.num_steps = 1000\n",
    "a.x0_min = 500\n",
    "a.x0_max = 1400\n",
    "temp = 100 \n",
    "xs, ys, path_lengths = a.run_optimal_action(Q_terminal, temp=temp)"
   ]
  },
  {
   "cell_type": "code",
   "execution_count": null,
   "metadata": {},
   "outputs": [],
   "source": [
    "for iW in range(a.num_walkers):\n",
    "    #colors = np.hstack(([0], np.diff(xs[:path_lengths[iW], iW])))\n",
    "    #colors = colors[skip:]\n",
    "    #plt.scatter(xs[skip:path_lengths[iW], iW], ys[skip:path_lengths[iW], iW], \n",
    "    #            c=colors, s=0.05, cmap=plt.cm.seismic_r)\n",
    "    plt.plot(xs[:path_lengths[iW], iW], ys[:path_lengths[iW], iW], color='k', lw=1)\n",
    "plt.xlim(100, 1500)\n",
    "plt.ylim(450 - 250, 450 + 250)\n",
    "plt.show()"
   ]
  }
 ],
 "metadata": {
  "kernelspec": {
   "display_name": "Python (RL)",
   "language": "python",
   "name": "rl"
  },
  "language_info": {
   "codemirror_mode": {
    "name": "ipython",
    "version": 3
   },
   "file_extension": ".py",
   "mimetype": "text/x-python",
   "name": "python",
   "nbconvert_exporter": "python",
   "pygments_lexer": "ipython3",
   "version": "3.7.7"
  }
 },
 "nbformat": 4,
 "nbformat_minor": 4
}
